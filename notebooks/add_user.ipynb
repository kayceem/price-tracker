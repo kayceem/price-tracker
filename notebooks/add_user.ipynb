{
 "cells": [
  {
   "cell_type": "code",
   "execution_count": null,
   "id": "573b0efe",
   "metadata": {},
   "outputs": [],
   "source": [
    "from database import MeroShareUser, get_db\n",
    "async with get_db() as db:\n",
    "    m = MeroShareUser(dp='', username='', password='')\n",
    "    db.add(m)\n",
    "    await db.commit()\n"
   ]
  }
 ],
 "metadata": {
  "kernelspec": {
   "display_name": ".venv",
   "language": "python",
   "name": "python3"
  },
  "language_info": {
   "codemirror_mode": {
    "name": "ipython",
    "version": 3
   },
   "file_extension": ".py",
   "mimetype": "text/x-python",
   "name": "python",
   "nbconvert_exporter": "python",
   "pygments_lexer": "ipython3",
   "version": "3.12.8"
  }
 },
 "nbformat": 4,
 "nbformat_minor": 5
}
