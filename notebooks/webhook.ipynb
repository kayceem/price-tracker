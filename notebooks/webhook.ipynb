{
 "cells": [
  {
   "cell_type": "code",
   "execution_count": 3,
   "metadata": {},
   "outputs": [],
   "source": [
    "from fastapi import FastAPI, Request, Response\n",
    "import logging\n",
    "\n",
    "from fastapi.responses import JSONResponse\n",
    "import nest_asyncio\n",
    "\n",
    "app = FastAPI()\n",
    "nest_asyncio.apply()# Configure logging\n",
    "logging.basicConfig(level=logging.INFO)\n",
    "logger = logging.getLogger(__name__)\n",
    "\n",
    "@app.route(\"/webhook\", methods=[\"GET\", \"POST\"])\n",
    "async def webhook_listener(request: Request):\n",
    "    \"\"\"\n",
    "    Webhook listener that receives JSON payloads.\n",
    "    \"\"\"\n",
    "    if request.query_params.get(\"hub.mode\") == \"subscribe\" and request.query_params.get(\"hub.verify_token\") == \"none\":\n",
    "        return Response(request.query_params[\"hub.challenge\"], media_type=\"text/plain\")\n",
    "    payload = await request.json()\n",
    "    logger.info(f\"Received Webhook Data: {payload}\")\n",
    "    return JSONResponse(content={\"message\": \"Webhook received successfully\", \"status\": \"ok\"}, status_code=200)\n",
    "\n",
    "@app.get(\"/\")\n",
    "def health_check():\n",
    "    \"\"\"\n",
    "    Health check endpoint.\n",
    "    \"\"\"\n",
    "    return {\"status\": \"running\"}\n"
   ]
  },
  {
   "cell_type": "code",
   "execution_count": 4,
   "metadata": {},
   "outputs": [
    {
     "name": "stderr",
     "output_type": "stream",
     "text": [
      "INFO:     Started server process [1515736]\n",
      "INFO:     Waiting for application startup.\n",
      "INFO:     Application startup complete.\n",
      "INFO:     Uvicorn running on http://127.0.0.1:8000 (Press CTRL+C to quit)\n",
      "INFO:     Shutting down\n",
      "INFO:     Waiting for application shutdown.\n",
      "INFO:     Application shutdown complete.\n",
      "INFO:     Finished server process [1515736]\n"
     ]
    }
   ],
   "source": [
    "\n",
    "import uvicorn\n",
    "uvicorn.run(app, port=8000)"
   ]
  }
 ],
 "metadata": {
  "kernelspec": {
   "display_name": ".venv",
   "language": "python",
   "name": "python3"
  },
  "language_info": {
   "codemirror_mode": {
    "name": "ipython",
    "version": 3
   },
   "file_extension": ".py",
   "mimetype": "text/x-python",
   "name": "python",
   "nbconvert_exporter": "python",
   "pygments_lexer": "ipython3",
   "version": "3.12.8"
  }
 },
 "nbformat": 4,
 "nbformat_minor": 2
}
