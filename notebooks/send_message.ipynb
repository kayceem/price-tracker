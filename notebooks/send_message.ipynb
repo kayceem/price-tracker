{
 "cells": [
  {
   "cell_type": "code",
   "execution_count": 1,
   "metadata": {},
   "outputs": [],
   "source": [
    "from contextlib import asynccontextmanager\n",
    "import datetime\n",
    "from http import HTTPStatus\n",
    "from telegram import Update\n",
    "from telegram.ext import Application, CommandHandler\n",
    "from telegram.ext._contexttypes import ContextTypes\n",
    "from fastapi import FastAPI, Request, Response\n",
    "import os\n",
    "import nest_asyncio\n",
    "from database import User, get_db\n",
    "from database.models import Tracker\n",
    "\n",
    "nest_asyncio.apply()\n",
    "nepal_tz = datetime.timezone(datetime.timedelta(hours=5, minutes=45))\n",
    "ptb = (\n",
    "    Application.builder()\n",
    "    .updater(None)\n",
    "    .token(os.getenv(\"TELEGRAM_BOT_TOKEN\"))\n",
    "    .read_timeout(7)\n",
    "    .get_updates_read_timeout(42)\n",
    "    .build()\n",
    ")\n",
    "def is_price_in_range(target: float, current: float, delta_percent: float) -> bool:\n",
    "        delta = current * (delta_percent / 100)\n",
    "        return current - delta <= target <= current + delta\n",
    "def check_time_delta(last_alert_time: datetime, delta: int) -> bool:\n",
    "    return (datetime.datetime.now(nepal_tz) - last_alert_time).seconds >= delta\n",
    "    \n",
    "async def check_trackers(context: ContextTypes.DEFAULT_TYPE):\n",
    "    async with get_db() as db:\n",
    "        trackers = db.execute(Tracker).all()\n",
    "        for tracker in trackers:\n",
    "            ltp = tracker.script.script_details.last_traded_price\n",
    "            alert_price = tracker.price\n",
    "            price_delta = (tracker.price_delta)/100\n",
    "            last_alert_time = tracker.triggerd_at\n",
    "            if check_time_delta(last_alert_time, 10) and is_price_in_range(alert_price, ltp, price_delta):\n",
    "                alert_message = (\n",
    "                        f\"<b>Price Alert</b>\\n\\n\"\n",
    "                        f\"<b>Script:</b> <code>{tracker.script.name}</code>\\n\"\n",
    "                        f\"<b>Target:</b> <code>{tracker.price:,.2f}</code>\\n\"\n",
    "                        f\"<b>Current:</b> <code>{ltp:,.2f}</code>\\n\"\n",
    "                        f\"<b>Time:</b> <code>{datetime.now(nepal_tz).strftime('%Y-%m-%d %H:%M:%S')}</code>\"\n",
    "                    )\n",
    "                tracker.triggerd_at = datetime.datetime.now(nepal_tz)\n",
    "                await ptb.bot.send_message(tracker.user.chat_id, alert_message, parse_mode=\"HTML\")\n",
    "                db.commit()\n",
    "@asynccontextmanager\n",
    "async def lifespan(_: FastAPI):\n",
    "    await ptb.bot.setWebhook(os.getenv(\"WEBHOOK_URL\"))\n",
    "    async with ptb:\n",
    "        await ptb.start()\n",
    "        ptb.job_queue.run_repeating(\n",
    "            check_trackers,\n",
    "            interval=30,\n",
    "            first=1,\n",
    "            name=\"check_trackers\",\n",
    "        )\n",
    "        yield\n",
    "        await ptb.stop()\n",
    "\n",
    "app = FastAPI(lifespan=lifespan)\n",
    "\n",
    "@app.post(\"/\")\n",
    "async def process_update(request: Request):\n",
    "    req = await request.json()\n",
    "    print(req)\n",
    "    update = Update.de_json(req, ptb.bot)\n",
    "    await ptb.process_update(update)\n",
    "    return Response(status_code=HTTPStatus.OK)\n",
    "\n",
    "async def start(update, _: ContextTypes.DEFAULT_TYPE):\n",
    "    \"\"\"Send a message when the command /start is issued.\"\"\"\n",
    "    async with get_db() as db:\n",
    "        user = db.execute(User).filter(User.chat_id == update.effective_user.id).first()\n",
    "        if user:\n",
    "            return await update.message.reply_text(f\"You are already registered.\")\n",
    "        db.add(User(chat_id=update.effective_user.id, username=update.effective_user.first_name))\n",
    "        db.commit()\n",
    "        await update.message.reply_text(f\"Welcome to NEPSE Price Tracker {update.effective_user.first_name}!\")\n",
    "\n",
    "ptb.add_handler(CommandHandler(\"start\", start))"
   ]
  },
  {
   "cell_type": "code",
   "execution_count": 2,
   "metadata": {},
   "outputs": [
    {
     "name": "stderr",
     "output_type": "stream",
     "text": [
      "INFO:     Started server process [220929]\n",
      "INFO:     Waiting for application startup.\n"
     ]
    },
    {
     "name": "stderr",
     "output_type": "stream",
     "text": [
      "INFO:     Application startup complete.\n",
      "INFO:     Uvicorn running on http://127.0.0.1:8000 (Press CTRL+C to quit)\n"
     ]
    },
    {
     "name": "stdout",
     "output_type": "stream",
     "text": [
      "{'update_id': 181506206, 'message': {'message_id': 42, 'from': {'id': 7511224313, 'is_bot': False, 'first_name': 'McLovin', 'language_code': 'en'}, 'chat': {'id': 7511224313, 'first_name': 'McLovin', 'type': 'private'}, 'date': 1739505225, 'text': '/start', 'entities': [{'offset': 0, 'length': 6, 'type': 'bot_command'}]}}\n",
      "INFO:     91.108.5.53:0 - \"POST / HTTP/1.1\" 200 OK\n"
     ]
    },
    {
     "name": "stderr",
     "output_type": "stream",
     "text": [
      "INFO:     Shutting down\n",
      "INFO:     Waiting for application shutdown.\n",
      "INFO:     Application shutdown complete.\n",
      "INFO:     Finished server process [220929]\n"
     ]
    }
   ],
   "source": [
    "import uvicorn\n",
    "uvicorn.run(app, port=8000)"
   ]
  }
 ],
 "metadata": {
  "kernelspec": {
   "display_name": ".venv",
   "language": "python",
   "name": "python3"
  },
  "language_info": {
   "codemirror_mode": {
    "name": "ipython",
    "version": 3
   },
   "file_extension": ".py",
   "mimetype": "text/x-python",
   "name": "python",
   "nbconvert_exporter": "python",
   "pygments_lexer": "ipython3",
   "version": "3.12.8"
  }
 },
 "nbformat": 4,
 "nbformat_minor": 2
}
