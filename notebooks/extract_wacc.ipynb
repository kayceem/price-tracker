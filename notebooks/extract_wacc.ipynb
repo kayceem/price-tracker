{
 "cells": [
  {
   "cell_type": "code",
   "execution_count": 1,
   "metadata": {},
   "outputs": [],
   "source": [
    "from database.models import  Scripts, MeroShareUser\n",
    "from database.session import  get_db\n",
    "from sqlalchemy.orm import selectinload\n",
    "from sqlalchemy import select"
   ]
  },
  {
   "cell_type": "code",
   "execution_count": 2,
   "metadata": {},
   "outputs": [],
   "source": [
    "async with get_db() as db:\n",
    "    username = \"3522757\"\n",
    "    meroshare_user = (await db.execute(select(MeroShareUser).filter(MeroShareUser.username == username))).scalars().first()\n",
    "    meroshare_user = meroshare_user.to_dict()"
   ]
  },
  {
   "cell_type": "code",
   "execution_count": null,
   "metadata": {},
   "outputs": [],
   "source": [
    "from nepse import Meroshare\n",
    "meroshare = Meroshare(dp=meroshare_user['dp'], password=meroshare_user['password'], username=meroshare_user['username'])\n",
    "await meroshare.start()"
   ]
  },
  {
   "cell_type": "code",
   "execution_count": 4,
   "metadata": {},
   "outputs": [],
   "source": [
    "from utils import get_dir_path\n",
    "from pathlib import Path\n",
    "import pandas as pd\n",
    "import os\n",
    "\n",
    "current_date = pd.Timestamp.now().strftime('%Y-%m-%d')\n",
    "\n",
    "dir_path = get_dir_path()\n",
    "base_dir = Path(dir_path,'csv', meroshare_user['username'])\n",
    "os.makedirs(base_dir, exist_ok=True)\n",
    "\n",
    "pnl_dir = Path(base_dir,'PnL')\n",
    "os.makedirs(pnl_dir, exist_ok=True)\n",
    "\n",
    "wacc_rates_csv = Path(base_dir, 'Wacc Rates.csv')\n",
    "pnl_xlsx = Path(base_dir,'P&L.xlsx')\n",
    "pnl_pdf = Path(base_dir,'P&L.pdf')\n",
    "\n",
    "\n",
    "wacc = pd.read_csv(Path(base_dir, 'My Wacc Report.csv'))\n",
    "shares = pd.read_csv(Path(base_dir, 'My Shares Values.csv'))"
   ]
  },
  {
   "cell_type": "code",
   "execution_count": 5,
   "metadata": {},
   "outputs": [],
   "source": [
    "import subprocess\n",
    "if pnl_pdf.exists():\n",
    "    subprocess.run(['mv',\n",
    "                    f'{pnl_pdf}',\n",
    "                    f'{pnl_dir}/{current_date}-P&L.pdf']\n",
    "                )"
   ]
  },
  {
   "cell_type": "code",
   "execution_count": 6,
   "metadata": {},
   "outputs": [],
   "source": [
    "merged_df = pd.merge(wacc, shares, left_on='Scrip Name', right_on='Scrip')\n",
    "result = merged_df[['Scrip Name', 'Current Balance', 'WACC Rate']].copy()\n",
    "result['WACC Rate'] = result['WACC Rate'].round(2)\n",
    "result['Current Balance'] = result['Current Balance'].astype(float)\n",
    "result = result.rename(columns={'Current Balance': 'Balance'})\n",
    "result = result.rename(columns={'WACC Rate': 'WACC'})\n",
    "result = result.rename(columns={'Scrip Name': 'Scrip'})"
   ]
  },
  {
   "cell_type": "code",
   "execution_count": 7,
   "metadata": {},
   "outputs": [
    {
     "name": "stdout",
     "output_type": "stream",
     "text": [
      "Refreshing ADBL...\n",
      "Refreshing AKPL...\n",
      "Refreshing BFC...\n",
      "Refreshing BNHC...\n",
      "Refreshing CKHL...\n",
      "Refreshing DOLTI...\n",
      "Refreshing GBIME...\n",
      "Refreshing GFCL...\n",
      "Refreshing GLH...\n",
      "Refreshing HRL...\n",
      "Refreshing IGI...\n",
      "Refreshing ILI...\n",
      "Refreshing JBLB...\n",
      "Refreshing KMCDB...\n",
      "Refreshing KSBBL...\n",
      "Refreshing MEL...\n",
      "Refreshing MLBL...\n",
      "Refreshing NABIL...\n",
      "Refreshing NHPC...\n",
      "Refreshing NIL...\n",
      "Refreshing NLIC...\n",
      "Refreshing NMB...\n",
      "Refreshing PCBL...\n",
      "Refreshing PHCL...\n",
      "Refreshing RHGCL...\n",
      "Refreshing SANVI...\n",
      "Refreshing SCB...\n",
      "Refreshing SGHC...\n",
      "Refreshing SICL...\n",
      "Refreshing SMFBS...\n",
      "Refreshing SMJC...\n",
      "Refreshing SONA...\n",
      "Refreshing SWBBL...\n",
      "Refreshing USHL...\n"
     ]
    }
   ],
   "source": [
    "# from nepse import  refresh_all_script_details, refresh_script_detail\n",
    "# for scrip in result['Scrip']:\n",
    "#     print(f\"Refreshing {scrip}...\")\n",
    "#     await refresh_script_detail(scrip)"
   ]
  },
  {
   "cell_type": "code",
   "execution_count": 8,
   "metadata": {},
   "outputs": [],
   "source": [
    "async with get_db() as db:\n",
    "    scripts = (await db.execute(select(Scripts).filter(Scripts.ticker.in_(result['Scrip'])).options(selectinload(Scripts.script_details)))).scalars().all()"
   ]
  },
  {
   "cell_type": "code",
   "execution_count": 9,
   "metadata": {},
   "outputs": [],
   "source": [
    "high_low = result['Scrip'].apply(lambda name: next((script.script_details.week_52_high_low for script in scripts if script.ticker == name), None)) "
   ]
  },
  {
   "cell_type": "code",
   "execution_count": 10,
   "metadata": {},
   "outputs": [],
   "source": [
    "result['High'] = high_low.apply(lambda x: x.replace(',','').split(' - ')[0] if isinstance(x, str) else 0).astype(float)\n",
    "result['LTP'] = result['Scrip'].apply(lambda name: next((script.script_details.last_traded_price for script in scripts if script.ticker == name), None)) \n",
    "result['Low'] = high_low.apply(lambda x: x.replace(',','').split(' - ')[1] if isinstance(x, str) else 0).astype(float)\n",
    "\n",
    "result['Investment'] = result['Balance'] * result['WACC']\n",
    "result['Investment'] = result['Investment'].round(2)\n",
    "\n",
    "result['Current Value'] = result['Balance'] * result['LTP']\n",
    "result['Current Value'] = result['Current Value'].round(2)\n",
    "\n",
    "result['Profit/Loss'] = result['Current Value'] - result['Investment']\n",
    "result['Profit/Loss'] = result['Profit/Loss'].round(2)\n",
    "\n",
    "result['Diff %'] = (result['Profit/Loss'] / result['Investment']) * 100\n",
    "result['Diff %'] = result['Diff %'].round(2)\n",
    "\n",
    "\n",
    "result = result.sort_values(by=['Investment', 'Diff %'], ascending=[False, False])\n",
    "\n",
    "totals = result[['Investment', 'Current Value', 'Profit/Loss']].sum()\n",
    "totals['Scrip'] = 'Total'\n",
    "totals['Balance'] = ''\n",
    "totals['WACC'] = ''\n",
    "totals['LTP'] = ''\n",
    "totals['Diff %'] = (totals['Profit/Loss'] / totals['Investment']) * 100\n",
    "totals['Diff %'] = round(totals['Diff %'],2)\n",
    "\n",
    "result = pd.concat([result, totals.to_frame().T], ignore_index=True)"
   ]
  },
  {
   "cell_type": "code",
   "execution_count": 11,
   "metadata": {},
   "outputs": [],
   "source": [
    "result.to_csv(wacc_rates_csv, index=False)\n",
    "result.to_excel(pnl_xlsx, index=False)"
   ]
  },
  {
   "cell_type": "code",
   "execution_count": 12,
   "metadata": {},
   "outputs": [],
   "source": [
    "import openpyxl\n",
    "from openpyxl.styles import PatternFill, Border, Side, Alignment, Font\n",
    "from openpyxl.worksheet.page import PageMargins\n",
    "\n",
    "wb = openpyxl.load_workbook(pnl_xlsx)\n",
    "ws = wb.active\n",
    "ws.page_setup.orientation = ws.ORIENTATION_LANDSCAPE\n",
    "ws.page_margins = PageMargins(\n",
    "    left=0.85,\n",
    "    right=0.25,\n",
    "    top=0.5,\n",
    "    bottom=0.5,\n",
    ")\n",
    "ws.page_setup.horizontalCentered = True\n",
    "\n",
    "ws.insert_rows(1)\n",
    "ws.insert_rows(2)\n",
    "\n",
    "\n",
    "title = f\"[{meroshare_user['username']}] Profit and Loss Report ({current_date})\"\n",
    "ws.merge_cells('A1:J1')\n",
    "title_cell = ws['A1']\n",
    "title_cell.value = title\n",
    "title_cell.alignment = Alignment(horizontal='center', vertical='center')\n",
    "title_cell.font = Font(size=14, bold=True)\n",
    "\n",
    "thin_border = Border(\n",
    "    left=Side(style='thin'),\n",
    "    right=Side(style='thin'),\n",
    "    top=Side(style='thin'),\n",
    "    bottom=Side(style='thin')\n",
    ")\n",
    "\n",
    "for row in ws.iter_rows(min_row=3):\n",
    "    for cell in row:\n",
    "        cell.border = thin_border\n",
    "# Set the width of columns\n",
    "column_widths = {\n",
    "    'A': 10,\n",
    "    'B': 10,\n",
    "    'C': 12,\n",
    "    'D': 12,\n",
    "    'E': 12,\n",
    "    'F': 12,\n",
    "    'G': 15,\n",
    "    'H': 15,\n",
    "    'I': 12,\n",
    "    'J': 12\n",
    "}\n",
    "\n",
    "for col, width in column_widths.items():\n",
    "    ws.column_dimensions[col].width = width\n",
    "\n",
    "red_fill_1 = PatternFill(start_color=\"FFCCCC\", end_color=\"FFCCCC\", fill_type=\"solid\")\n",
    "red_fill_2 = PatternFill(start_color=\"FF6666\", end_color=\"FF6666\", fill_type=\"solid\")\n",
    "red_fill_3 = PatternFill(start_color=\"FF0000\", end_color=\"FF0000\", fill_type=\"solid\")\n",
    "\n",
    "green_fill_1 = PatternFill(start_color=\"CCFFCC\", end_color=\"CCFFCC\", fill_type=\"solid\")\n",
    "green_fill_2 = PatternFill(start_color=\"66FF66\", end_color=\"66FF66\", fill_type=\"solid\")\n",
    "green_fill_3 = PatternFill(start_color=\"00FF00\", end_color=\"00FF00\", fill_type=\"solid\")\n",
    "\n",
    "neutral_fill = PatternFill(start_color=\"FFFFCC\", end_color=\"FFFFCC\", fill_type=\"solid\")\n",
    "\n",
    "profit_loss_col = None\n",
    "current_value_col = None\n",
    "for idx, cell in enumerate(ws[3]):\n",
    "    if cell.value == 'Diff %':\n",
    "        profit_loss_col = idx + 1\n",
    "    if cell.value == 'Balance':\n",
    "        current_value_col = idx + 1\n",
    "\n",
    "for row in ws.iter_rows(min_row=4, max_row=ws.max_row):\n",
    "    profit_loss_value = row[profit_loss_col - 1].value\n",
    "    current_value_value = row[current_value_col - 1].value\n",
    "    if current_value_value and current_value_value == 10:\n",
    "        fill = neutral_fill\n",
    "        for cell in row:\n",
    "            cell.fill = fill\n",
    "            cell.border = thin_border\n",
    "        continue\n",
    "    if profit_loss_value:\n",
    "        if profit_loss_value > 50:\n",
    "            fill = green_fill_3\n",
    "        elif profit_loss_value > 20:\n",
    "            fill = green_fill_2\n",
    "        elif profit_loss_value > 0:\n",
    "            fill = green_fill_1\n",
    "        elif profit_loss_value < -50:\n",
    "            fill = red_fill_3\n",
    "        elif profit_loss_value < -20:\n",
    "            fill = red_fill_2\n",
    "        elif profit_loss_value < 0:\n",
    "            fill = red_fill_1\n",
    "        else:\n",
    "            fill = neutral_fill\n",
    "        for cell in row:\n",
    "            cell.fill = fill\n",
    "\n",
    "wb.save(pnl_xlsx)"
   ]
  },
  {
   "cell_type": "code",
   "execution_count": 13,
   "metadata": {},
   "outputs": [
    {
     "name": "stdout",
     "output_type": "stream",
     "text": [
      "convert /home/kayc/Code/Python/price-tracker/csv/3522757/P&L.xlsx as a Calc document -> /home/kayc/Code/Python/price-tracker/csv/3522757/P&L.pdf using filter : calc_pdf_Export\n"
     ]
    },
    {
     "data": {
      "text/plain": [
       "CompletedProcess(args=['libreoffice', '--headless', '--convert-to', 'pdf', '--outdir', PosixPath('/home/kayc/Code/Python/price-tracker/csv/3522757'), PosixPath('/home/kayc/Code/Python/price-tracker/csv/3522757/P&L.xlsx')], returncode=0)"
      ]
     },
     "execution_count": 13,
     "metadata": {},
     "output_type": "execute_result"
    }
   ],
   "source": [
    "import subprocess\n",
    "subprocess.run([\n",
    "        'libreoffice',\n",
    "        '--headless',\n",
    "        '--convert-to', 'pdf',\n",
    "        '--outdir', base_dir,\n",
    "        pnl_xlsx\n",
    "    ])"
   ]
  }
 ],
 "metadata": {
  "kernelspec": {
   "display_name": ".venv",
   "language": "python",
   "name": "python3"
  },
  "language_info": {
   "codemirror_mode": {
    "name": "ipython",
    "version": 3
   },
   "file_extension": ".py",
   "mimetype": "text/x-python",
   "name": "python",
   "nbconvert_exporter": "python",
   "pygments_lexer": "ipython3",
   "version": "3.12.8"
  }
 },
 "nbformat": 4,
 "nbformat_minor": 2
}
