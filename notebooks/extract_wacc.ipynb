{
 "cells": [
  {
   "cell_type": "code",
   "execution_count": 1,
   "metadata": {},
   "outputs": [],
   "source": [
    "import pandas as pd"
   ]
  },
  {
   "cell_type": "code",
   "execution_count": 2,
   "metadata": {},
   "outputs": [],
   "source": [
    "from utils import get_dir_path\n",
    "from pathlib import Path\n",
    "dir_path = get_dir_path()"
   ]
  },
  {
   "cell_type": "code",
   "execution_count": 3,
   "metadata": {},
   "outputs": [],
   "source": [
    "wacc = pd.read_csv(Path(dir_path,'csv/My Wacc Report.csv'))\n",
    "shares = pd.read_csv(Path(dir_path,'csv/My Shares Values.csv'))"
   ]
  },
  {
   "cell_type": "code",
   "execution_count": 4,
   "metadata": {},
   "outputs": [],
   "source": [
    "merged_df = pd.merge(wacc, shares, left_on='Scrip Name', right_on='Scrip')\n",
    "result = merged_df[['Scrip Name', 'WACC Rate']]"
   ]
  },
  {
   "cell_type": "code",
   "execution_count": 5,
   "metadata": {},
   "outputs": [],
   "source": [
    "result.to_csv(Path(dir_path,'csv/My Wacc Rate.csv'), index=False)"
   ]
  },
  {
   "cell_type": "code",
   "execution_count": 9,
   "metadata": {},
   "outputs": [],
   "source": [
    "from database import Tracker, User, get_db, Scripts\n",
    "\n",
    "async with get_db() as db:\n",
    "    users = db.execute(User).all()\n",
    "    for index, row in result.iterrows():\n",
    "        script = db.execute(Scripts).filter(Scripts.ticker == row['Scrip Name']).first()\n",
    "        if not script:\n",
    "            continue\n",
    "        for user in users:\n",
    "            tracker = Tracker(script=script, user=user, price=row['WACC Rate'], price_delta=10)\n",
    "            db.add(tracker)\n",
    "            db.commit()"
   ]
  }
 ],
 "metadata": {
  "kernelspec": {
   "display_name": ".venv",
   "language": "python",
   "name": "python3"
  },
  "language_info": {
   "codemirror_mode": {
    "name": "ipython",
    "version": 3
   },
   "file_extension": ".py",
   "mimetype": "text/x-python",
   "name": "python",
   "nbconvert_exporter": "python",
   "pygments_lexer": "ipython3",
   "version": "3.12.8"
  }
 },
 "nbformat": 4,
 "nbformat_minor": 2
}
