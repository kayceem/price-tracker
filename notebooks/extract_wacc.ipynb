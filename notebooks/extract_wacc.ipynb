{
 "cells": [
  {
   "cell_type": "code",
   "execution_count": 143,
   "metadata": {},
   "outputs": [],
   "source": [
    "import pandas as pd"
   ]
  },
  {
   "cell_type": "code",
   "execution_count": 144,
   "metadata": {},
   "outputs": [],
   "source": [
    "from utils import get_dir_path\n",
    "from pathlib import Path\n",
    "dir_path = get_dir_path()"
   ]
  },
  {
   "cell_type": "code",
   "execution_count": 145,
   "metadata": {},
   "outputs": [],
   "source": [
    "wacc = pd.read_csv(Path(dir_path,'csv/My Wacc Report.csv'))\n",
    "shares = pd.read_csv(Path(dir_path,'csv/My Shares Values.csv'))"
   ]
  },
  {
   "cell_type": "code",
   "execution_count": 146,
   "metadata": {},
   "outputs": [],
   "source": [
    "merged_df = pd.merge(wacc, shares, left_on='Scrip Name', right_on='Scrip')\n",
    "result = merged_df[['Scrip Name', 'Current Balance', 'WACC Rate']].copy()\n",
    "result['WACC Rate'] = result['WACC Rate'].round(2)\n",
    "result['Current Balance'] = result['Current Balance'].astype(float)\n"
   ]
  },
  {
   "cell_type": "code",
   "execution_count": 147,
   "metadata": {},
   "outputs": [],
   "source": [
    "import nest_asyncio\n",
    "nest_asyncio.apply()\n",
    "from database.models import  Scripts\n",
    "from database.session import  get_db\n",
    "from sqlalchemy.orm import selectinload\n",
    "from sqlalchemy import select\n",
    "async with get_db() as db:\n",
    "    scripts = (await db.execute(select(Scripts).filter(Scripts.ticker.in_(result['Scrip Name'])).options(selectinload(Scripts.script_details)))).scalars().all()\n",
    "# result['LTP'] = result['Scrip Name'].apply(lambda name: next((scripts.filter(Scripts.ticker==name).first().script_details.last_traded_price), None)) "
   ]
  },
  {
   "cell_type": "code",
   "execution_count": 148,
   "metadata": {},
   "outputs": [],
   "source": [
    "result['LTP'] = result['Scrip Name'].apply(lambda name: next((script.script_details.last_traded_price for script in scripts if script.ticker == name), None)) \n"
   ]
  },
  {
   "cell_type": "code",
   "execution_count": 149,
   "metadata": {},
   "outputs": [],
   "source": [
    "result['Investment'] = result['Current Balance'] * result['WACC Rate']\n",
    "result['Investment'] = result['Investment'].round(2)\n",
    "\n",
    "result['Current Value'] = result['Current Balance'] * result['LTP']\n",
    "result['Current Value'] = result['Current Value'].round(2)\n",
    "\n",
    "result['Profit/Loss'] = result['Current Value'] - result['Investment']\n",
    "result['Profit/Loss'] = result['Profit/Loss'].round(2)\n",
    "\n",
    "result['Profit/Loss %'] = (result['Profit/Loss'] / result['Investment']) * 100\n",
    "result['Profit/Loss %'] = result['Profit/Loss %'].round(2)\n",
    "\n",
    "\n",
    "result = result.sort_values(by=['Investment', 'Profit/Loss %'], ascending=[False, False])\n",
    "\n",
    "totals = result[['Investment', 'Current Value', 'Profit/Loss']].sum()\n",
    "totals['Scrip Name'] = 'Total'\n",
    "totals['Current Balance'] = ''\n",
    "totals['WACC Rate'] = ''\n",
    "totals['LTP'] = ''\n",
    "totals['Profit/Loss %'] = (totals['Profit/Loss'] / totals['Investment']) * 100\n",
    "totals['Profit/Loss %'] = round(totals['Profit/Loss %'],2)\n",
    "\n",
    "result = pd.concat([result, totals.to_frame().T], ignore_index=True)"
   ]
  },
  {
   "cell_type": "code",
   "execution_count": 150,
   "metadata": {},
   "outputs": [],
   "source": [
    "result.to_csv(Path(dir_path,'csv/My Wacc Rate.csv'), index=False)\n",
    "result.to_excel(Path(dir_path,'csv/My Wacc Rate.xlsx'), index=False)"
   ]
  },
  {
   "cell_type": "code",
   "execution_count": 151,
   "metadata": {},
   "outputs": [],
   "source": [
    "import openpyxl\n",
    "from openpyxl.styles import PatternFill\n",
    "\n",
    "wb = openpyxl.load_workbook(Path(dir_path,'csv/My Wacc Rate.xlsx'))\n",
    "ws = wb.active\n",
    "\n",
    "# Set the width of columns\n",
    "column_widths = {\n",
    "    'A': 15,\n",
    "    'B': 20,\n",
    "    'C': 15,\n",
    "    'D': 10,\n",
    "    'E': 15,\n",
    "    'F': 15,\n",
    "    'G': 15,\n",
    "    'H': 15\n",
    "}\n",
    "\n",
    "for col, width in column_widths.items():\n",
    "    ws.column_dimensions[col].width = width\n",
    "\n",
    "red_fill_1 = PatternFill(start_color=\"FFCCCC\", end_color=\"FFCCCC\", fill_type=\"solid\")\n",
    "red_fill_2 = PatternFill(start_color=\"FF6666\", end_color=\"FF6666\", fill_type=\"solid\")\n",
    "red_fill_3 = PatternFill(start_color=\"FF0000\", end_color=\"FF0000\", fill_type=\"solid\")\n",
    "\n",
    "green_fill_1 = PatternFill(start_color=\"CCFFCC\", end_color=\"CCFFCC\", fill_type=\"solid\")\n",
    "green_fill_2 = PatternFill(start_color=\"66FF66\", end_color=\"66FF66\", fill_type=\"solid\")\n",
    "green_fill_3 = PatternFill(start_color=\"00FF00\", end_color=\"00FF00\", fill_type=\"solid\")\n",
    "\n",
    "neutral_fill = PatternFill(start_color=\"FFFFCC\", end_color=\"FFFFCC\", fill_type=\"solid\")\n",
    "\n",
    "profit_loss_col = None\n",
    "current_value_col = None\n",
    "for idx, cell in enumerate(ws[1]):\n",
    "    if cell.value == 'Profit/Loss %':\n",
    "        profit_loss_col = idx + 1\n",
    "    if cell.value == 'Current Balance':\n",
    "        current_value_col = idx + 1\n",
    "\n",
    "for row in ws.iter_rows(min_row=2, max_row=ws.max_row):\n",
    "    profit_loss_value = row[profit_loss_col - 1].value\n",
    "    current_value_value = row[current_value_col - 1].value\n",
    "    if current_value_value and current_value_value == 10:\n",
    "        fill = neutral_fill\n",
    "        for cell in row:\n",
    "            cell.fill = fill\n",
    "        continue\n",
    "    if profit_loss_value:\n",
    "        if profit_loss_value > 50:\n",
    "            fill = green_fill_3\n",
    "        elif profit_loss_value > 20:\n",
    "            fill = green_fill_2\n",
    "        elif profit_loss_value > 0:\n",
    "            fill = green_fill_1\n",
    "        elif profit_loss_value < -50:\n",
    "            fill = red_fill_3\n",
    "        elif profit_loss_value < -20:\n",
    "            fill = red_fill_2\n",
    "        elif profit_loss_value < 0:\n",
    "            fill = red_fill_1\n",
    "        else:\n",
    "            fill = neutral_fill\n",
    "        for cell in row:\n",
    "            cell.fill = fill\n",
    "\n",
    "wb.save(Path(dir_path,'csv/My Wacc Rate.xlsx'))"
   ]
  },
  {
   "cell_type": "code",
   "execution_count": null,
   "metadata": {},
   "outputs": [],
   "source": [
    "from database.models import  S"
   ]
  }
 ],
 "metadata": {
  "kernelspec": {
   "display_name": ".venv",
   "language": "python",
   "name": "python3"
  },
  "language_info": {
   "codemirror_mode": {
    "name": "ipython",
    "version": 3
   },
   "file_extension": ".py",
   "mimetype": "text/x-python",
   "name": "python",
   "nbconvert_exporter": "python",
   "pygments_lexer": "ipython3",
   "version": "3.12.8"
  }
 },
 "nbformat": 4,
 "nbformat_minor": 2
}
