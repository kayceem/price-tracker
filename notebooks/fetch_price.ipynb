{
 "cells": [
  {
   "cell_type": "code",
   "execution_count": 1,
   "metadata": {},
   "outputs": [],
   "source": [
    "import requests\n",
    "from bs4 import BeautifulSoup\n",
    "from database import Scripts, get_db\n",
    "from playwright.sync_api import sync_playwright\n",
    "from playwright.async_api import async_playwright\n",
    "from urllib.parse import urljoin\n"
   ]
  },
  {
   "cell_type": "code",
   "execution_count": 2,
   "metadata": {},
   "outputs": [
    {
     "name": "stdout",
     "output_type": "stream",
     "text": [
      "<ScriptDetails(Script=AHPC, listing_date=Nov 17, 2009, last_traded_price=263.3, total_traded_quantity=98743, total_trades=375, previous_day_close_price=262.5, high_price_low_price=268.20 - 262.00, week_52_high_low=349.00 - 149.00, open_price=262.5, close_price=263.3, total_listed_shares=38480030, total_paid_up_value=3848003000.0, market_capitalization=10131791899.0)>\n"
     ]
    }
   ],
   "source": [
    "async with get_db() as db:\n",
    "    script = db.execute(Scripts).first()\n",
    "    print(script.script_details)\n"
   ]
  },
  {
   "cell_type": "code",
   "execution_count": 11,
   "metadata": {},
   "outputs": [],
   "source": [
    "url = urljoin(\"https://nepalstock.com/\",script.href)"
   ]
  },
  {
   "cell_type": "code",
   "execution_count": 12,
   "metadata": {},
   "outputs": [],
   "source": [
    "async with async_playwright() as p:\n",
    "    browser = await p.chromium.launch(headless=True)\n",
    "    page = await browser.new_page()\n",
    "    await page.set_extra_http_headers({\"User-Agent\": \"Mozilla/5.0 (Windows NT 10.0; Win64; x64) AppleWebKit/537.36 (KHTML, like Gecko) Chrome/119.0.0.0 Safari/537.36\"})\n",
    "    await page.goto(url)\n",
    "    await page.wait_for_selector(\"table.table\")\n",
    "    table_data = {\"script_id\": script.id}\n",
    "    table = page.locator(\"table.table\").nth(0)\n",
    "    rows = await table.locator(\"tr\").all()\n",
    "    for row in rows:\n",
    "        td = await row.locator(\"td\").all_text_contents()\n",
    "        th = await row.locator(\"th\").all_text_contents()\n",
    "        if td and th:\n",
    "            table_data[th[0].strip().replace(\"/\",\"-\")] = td[0].strip().replace(\"/\",\"-\")\n",
    "    await browser.close()"
   ]
  },
  {
   "cell_type": "code",
   "execution_count": 13,
   "metadata": {},
   "outputs": [
    {
     "data": {
      "text/plain": [
       "{'script_id': 1,\n",
       " 'Instrument Type': 'Equity ( EQ )',\n",
       " 'Listing Date': 'Nov 17, 2009',\n",
       " 'Last Traded Price': '263.30 \\xa0 0.80 (0.30%)',\n",
       " 'Total Traded Quantity': '98,743',\n",
       " 'Total Trades': '375',\n",
       " 'Previous Day Close Price': '262.50',\n",
       " 'High Price - Low Price': '268.20 - 262.00',\n",
       " '52 Week High - 52 Week Low': '349.00 - 149.00',\n",
       " 'Open Price': '262.50',\n",
       " 'Close Price*': '263.30',\n",
       " 'Total Listed Shares': '38,480,030',\n",
       " 'Total Paid up Value': '3,848,003,000.00',\n",
       " 'Market Capitalization': '10,131,791,899.00'}"
      ]
     },
     "execution_count": 13,
     "metadata": {},
     "output_type": "execute_result"
    }
   ],
   "source": [
    "table_data"
   ]
  },
  {
   "cell_type": "code",
   "execution_count": 32,
   "metadata": {},
   "outputs": [
    {
     "name": "stdout",
     "output_type": "stream",
     "text": [
      "script_id=1 instrument_type='Equity ( EQ )' listing_date='Nov 17, 2009' last_traded_price=263.3 total_traded_quantity=98743 total_trades=375 previous_day_close_price=262.5 high_price_low_price='268.20 - 262.00' week_52_high_low='349.00 - 149.00' open_price=262.5 close_price=263.3 total_listed_shares=38480030 total_paid_up_value=3848003000.0 market_capitalization=10131791899.0\n"
     ]
    }
   ],
   "source": [
    "from pydantic import BaseModel, Field, field_validator\n",
    "from typing import Any, Optional\n",
    "\n",
    "class StockDetails(BaseModel):\n",
    "    script_id: Any\n",
    "    instrument_type: str = Field(..., alias=\"Instrument Type\")\n",
    "    listing_date: str = Field(..., alias=\"Listing Date\")\n",
    "    last_traded_price: float = Field(..., alias=\"Last Traded Price\")\n",
    "    total_traded_quantity: int = Field(..., alias=\"Total Traded Quantity\")\n",
    "    total_trades: int = Field(..., alias=\"Total Trades\")\n",
    "    previous_day_close_price: float = Field(..., alias=\"Previous Day Close Price\")\n",
    "    high_price_low_price: str = Field(..., alias=\"High Price - Low Price\")\n",
    "    week_52_high_low: str = Field(..., alias=\"52 Week High - 52 Week Low\")\n",
    "    open_price: float = Field(..., alias=\"Open Price\")\n",
    "    close_price: float = Field(..., alias=\"Close Price*\")\n",
    "    total_listed_shares: int = Field(..., alias=\"Total Listed Shares\")\n",
    "    total_paid_up_value: float = Field(..., alias=\"Total Paid up Value\")\n",
    "    market_capitalization: float = Field(..., alias=\"Market Capitalization\")\n",
    "\n",
    "    @field_validator(\"total_listed_shares\",\"last_traded_price\", mode=\"after\")\n",
    "    def check_value(cls, value):\n",
    "        if value <= 0:\n",
    "            raise ValueError(\"Value should be greater than 0\")\n",
    "        return value\n",
    "\n",
    "    @field_validator(\"last_traded_price\", mode=\"before\")\n",
    "    def split_differences(cls, value):\n",
    "        return float(value.split()[0]) if isinstance(value, str) else value\n",
    "\n",
    "    @field_validator(\"total_traded_quantity\",\"total_trades\",\"previous_day_close_price\",\"open_price\",\"close_price\",\"total_listed_shares\",\"total_paid_up_value\", \"market_capitalization\", mode=\"before\")\n",
    "    def remove_commas(cls, value):\n",
    "        return float(value.replace(\",\", \"\")) if isinstance(value, str) else value\n",
    "\n",
    "    class Config:\n",
    "        populate_by_name = True\n",
    "try:\n",
    "    stock_details = StockDetails.model_validate(table_data)\n",
    "except ValueError as e:\n",
    "    print(e)\n",
    "\n",
    "print(stock_details)\n"
   ]
  },
  {
   "cell_type": "code",
   "execution_count": 33,
   "metadata": {},
   "outputs": [
    {
     "data": {
      "text/plain": [
       "{'script_id': 1,\n",
       " 'instrument_type': 'Equity ( EQ )',\n",
       " 'listing_date': 'Nov 17, 2009',\n",
       " 'last_traded_price': 263.3,\n",
       " 'total_traded_quantity': 98743,\n",
       " 'total_trades': 375,\n",
       " 'previous_day_close_price': 262.5,\n",
       " 'high_price_low_price': '268.20 - 262.00',\n",
       " 'week_52_high_low': '349.00 - 149.00',\n",
       " 'open_price': 262.5,\n",
       " 'close_price': 263.3,\n",
       " 'total_listed_shares': 38480030,\n",
       " 'total_paid_up_value': 3848003000.0,\n",
       " 'market_capitalization': 10131791899.0}"
      ]
     },
     "execution_count": 33,
     "metadata": {},
     "output_type": "execute_result"
    }
   ],
   "source": [
    "stock_details.model_dump()"
   ]
  },
  {
   "cell_type": "code",
   "execution_count": 34,
   "metadata": {},
   "outputs": [],
   "source": [
    "from database import ScriptDetails\n",
    "\n",
    "\n",
    "async with get_db() as db:\n",
    "    db.add(ScriptDetails(**stock_details.model_dump()))\n",
    "    db.commit()"
   ]
  },
  {
   "cell_type": "code",
   "execution_count": 35,
   "metadata": {},
   "outputs": [
    {
     "ename": "DetachedInstanceError",
     "evalue": "Parent instance <Scripts at 0x770b3b7fbfb0> is not bound to a Session; lazy load operation of attribute 'script_details' cannot proceed (Background on this error at: https://sqlalche.me/e/20/bhk3)",
     "output_type": "error",
     "traceback": [
      "\u001b[0;31m---------------------------------------------------------------------------\u001b[0m",
      "\u001b[0;31mDetachedInstanceError\u001b[0m                     Traceback (most recent call last)",
      "Cell \u001b[0;32mIn[35], line 1\u001b[0m\n\u001b[0;32m----> 1\u001b[0m \u001b[43mscript\u001b[49m\u001b[38;5;241;43m.\u001b[39;49m\u001b[43mscript_details\u001b[49m\n",
      "File \u001b[0;32m~/Code/Price Tracker/.venv/lib/python3.12/site-packages/sqlalchemy/orm/attributes.py:566\u001b[0m, in \u001b[0;36mInstrumentedAttribute.__get__\u001b[0;34m(self, instance, owner)\u001b[0m\n\u001b[1;32m    564\u001b[0m \u001b[38;5;28;01mexcept\u001b[39;00m \u001b[38;5;167;01mAttributeError\u001b[39;00m \u001b[38;5;28;01mas\u001b[39;00m err:\n\u001b[1;32m    565\u001b[0m     \u001b[38;5;28;01mraise\u001b[39;00m orm_exc\u001b[38;5;241m.\u001b[39mUnmappedInstanceError(instance) \u001b[38;5;28;01mfrom\u001b[39;00m\u001b[38;5;250m \u001b[39m\u001b[38;5;21;01merr\u001b[39;00m\n\u001b[0;32m--> 566\u001b[0m \u001b[38;5;28;01mreturn\u001b[39;00m \u001b[38;5;28;43mself\u001b[39;49m\u001b[38;5;241;43m.\u001b[39;49m\u001b[43mimpl\u001b[49m\u001b[38;5;241;43m.\u001b[39;49m\u001b[43mget\u001b[49m\u001b[43m(\u001b[49m\u001b[43mstate\u001b[49m\u001b[43m,\u001b[49m\u001b[43m \u001b[49m\u001b[43mdict_\u001b[49m\u001b[43m)\u001b[49m\n",
      "File \u001b[0;32m~/Code/Price Tracker/.venv/lib/python3.12/site-packages/sqlalchemy/orm/attributes.py:1086\u001b[0m, in \u001b[0;36mAttributeImpl.get\u001b[0;34m(self, state, dict_, passive)\u001b[0m\n\u001b[1;32m   1083\u001b[0m \u001b[38;5;28;01mif\u001b[39;00m \u001b[38;5;129;01mnot\u001b[39;00m passive \u001b[38;5;241m&\u001b[39m CALLABLES_OK:\n\u001b[1;32m   1084\u001b[0m     \u001b[38;5;28;01mreturn\u001b[39;00m PASSIVE_NO_RESULT\n\u001b[0;32m-> 1086\u001b[0m value \u001b[38;5;241m=\u001b[39m \u001b[38;5;28;43mself\u001b[39;49m\u001b[38;5;241;43m.\u001b[39;49m\u001b[43m_fire_loader_callables\u001b[49m\u001b[43m(\u001b[49m\u001b[43mstate\u001b[49m\u001b[43m,\u001b[49m\u001b[43m \u001b[49m\u001b[43mkey\u001b[49m\u001b[43m,\u001b[49m\u001b[43m \u001b[49m\u001b[43mpassive\u001b[49m\u001b[43m)\u001b[49m\n\u001b[1;32m   1088\u001b[0m \u001b[38;5;28;01mif\u001b[39;00m value \u001b[38;5;129;01mis\u001b[39;00m PASSIVE_NO_RESULT \u001b[38;5;129;01mor\u001b[39;00m value \u001b[38;5;129;01mis\u001b[39;00m NO_VALUE:\n\u001b[1;32m   1089\u001b[0m     \u001b[38;5;28;01mreturn\u001b[39;00m value\n",
      "File \u001b[0;32m~/Code/Price Tracker/.venv/lib/python3.12/site-packages/sqlalchemy/orm/attributes.py:1121\u001b[0m, in \u001b[0;36mAttributeImpl._fire_loader_callables\u001b[0;34m(self, state, key, passive)\u001b[0m\n\u001b[1;32m   1119\u001b[0m     \u001b[38;5;28;01mreturn\u001b[39;00m callable_(state, passive)\n\u001b[1;32m   1120\u001b[0m \u001b[38;5;28;01melif\u001b[39;00m \u001b[38;5;28mself\u001b[39m\u001b[38;5;241m.\u001b[39mcallable_:\n\u001b[0;32m-> 1121\u001b[0m     \u001b[38;5;28;01mreturn\u001b[39;00m \u001b[38;5;28;43mself\u001b[39;49m\u001b[38;5;241;43m.\u001b[39;49m\u001b[43mcallable_\u001b[49m\u001b[43m(\u001b[49m\u001b[43mstate\u001b[49m\u001b[43m,\u001b[49m\u001b[43m \u001b[49m\u001b[43mpassive\u001b[49m\u001b[43m)\u001b[49m\n\u001b[1;32m   1122\u001b[0m \u001b[38;5;28;01melse\u001b[39;00m:\n\u001b[1;32m   1123\u001b[0m     \u001b[38;5;28;01mreturn\u001b[39;00m ATTR_EMPTY\n",
      "File \u001b[0;32m~/Code/Price Tracker/.venv/lib/python3.12/site-packages/sqlalchemy/orm/strategies.py:922\u001b[0m, in \u001b[0;36mLazyLoader._load_for_state\u001b[0;34m(self, state, passive, loadopt, extra_criteria, extra_options, alternate_effective_path, execution_options)\u001b[0m\n\u001b[1;32m    919\u001b[0m     \u001b[38;5;28;01mif\u001b[39;00m passive \u001b[38;5;241m&\u001b[39m PassiveFlag\u001b[38;5;241m.\u001b[39mNO_RAISE:\n\u001b[1;32m    920\u001b[0m         \u001b[38;5;28;01mreturn\u001b[39;00m LoaderCallableStatus\u001b[38;5;241m.\u001b[39mPASSIVE_NO_RESULT\n\u001b[0;32m--> 922\u001b[0m     \u001b[38;5;28;01mraise\u001b[39;00m orm_exc\u001b[38;5;241m.\u001b[39mDetachedInstanceError(\n\u001b[1;32m    923\u001b[0m         \u001b[38;5;124m\"\u001b[39m\u001b[38;5;124mParent instance \u001b[39m\u001b[38;5;132;01m%s\u001b[39;00m\u001b[38;5;124m is not bound to a Session; \u001b[39m\u001b[38;5;124m\"\u001b[39m\n\u001b[1;32m    924\u001b[0m         \u001b[38;5;124m\"\u001b[39m\u001b[38;5;124mlazy load operation of attribute \u001b[39m\u001b[38;5;124m'\u001b[39m\u001b[38;5;132;01m%s\u001b[39;00m\u001b[38;5;124m'\u001b[39m\u001b[38;5;124m cannot proceed\u001b[39m\u001b[38;5;124m\"\u001b[39m\n\u001b[1;32m    925\u001b[0m         \u001b[38;5;241m%\u001b[39m (orm_util\u001b[38;5;241m.\u001b[39mstate_str(state), \u001b[38;5;28mself\u001b[39m\u001b[38;5;241m.\u001b[39mkey)\n\u001b[1;32m    926\u001b[0m     )\n\u001b[1;32m    928\u001b[0m \u001b[38;5;66;03m# if we have a simple primary key load, check the\u001b[39;00m\n\u001b[1;32m    929\u001b[0m \u001b[38;5;66;03m# identity map without generating a Query at all\u001b[39;00m\n\u001b[1;32m    930\u001b[0m \u001b[38;5;28;01mif\u001b[39;00m use_get:\n",
      "\u001b[0;31mDetachedInstanceError\u001b[0m: Parent instance <Scripts at 0x770b3b7fbfb0> is not bound to a Session; lazy load operation of attribute 'script_details' cannot proceed (Background on this error at: https://sqlalche.me/e/20/bhk3)"
     ]
    }
   ],
   "source": []
  }
 ],
 "metadata": {
  "kernelspec": {
   "display_name": ".venv",
   "language": "python",
   "name": "python3"
  },
  "language_info": {
   "codemirror_mode": {
    "name": "ipython",
    "version": 3
   },
   "file_extension": ".py",
   "mimetype": "text/x-python",
   "name": "python",
   "nbconvert_exporter": "python",
   "pygments_lexer": "ipython3",
   "version": "3.12.8"
  }
 },
 "nbformat": 4,
 "nbformat_minor": 2
}
